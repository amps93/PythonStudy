{
 "cells": [
  {
   "cell_type": "markdown",
   "id": "ccea2566-c58c-4c39-aa23-1fb00d972295",
   "metadata": {},
   "source": [
    "# 2. DataFrame\n",
    "2차원 데이터 (Series들의 모음)"
   ]
  },
  {
   "cell_type": "markdown",
   "id": "b6d06504-8f19-49fd-b6ec-1d02cf66a6e7",
   "metadata": {},
   "source": [
    "## Data 준비\n",
    "사전 (dict) 자료구조를 통해 생성"
   ]
  },
  {
   "cell_type": "code",
   "execution_count": 2,
   "id": "da27a7c3-c032-4628-9305-29764de9789d",
   "metadata": {},
   "outputs": [
    {
     "data": {
      "text/plain": [
       "{'이름': ['채치수', '정대만', '송태섭', '서태웅', '강백호', '변덕규', '황태산', '윤대협'],\n",
       " '학교': ['북산고', '북산고', '북산고', '북산고', '북산고', '능남고', '능남고', '능남고'],\n",
       " '키': [197, 184, 168, 187, 188, 202, 188, 190],\n",
       " '국어': [90, 40, 80, 40, 15, 80, 55, 100],\n",
       " '영어': [85, 35, 75, 60, 20, 100, 65, 85],\n",
       " '수학': [100, 50, 70, 70, 10, 95, 45, 90],\n",
       " '과학': [95, 55, 80, 75, 35, 85, 40, 95],\n",
       " '사회': [85, 25, 75, 80, 10, 80, 35, 95],\n",
       " 'SW특기': ['Python', 'Java', 'Javascript', '', '', 'C', 'PYTHON', 'C#']}"
      ]
     },
     "execution_count": 2,
     "metadata": {},
     "output_type": "execute_result"
    }
   ],
   "source": [
    "data = {\n",
    "    '이름': ['채치수', '정대만', '송태섭', '서태웅', '강백호', '변덕규', '황태산', '윤대협'],\n",
    "    '학교': ['북산고', '북산고', '북산고', '북산고', '북산고', '능남고', '능남고', '능남고',],\n",
    "    '키': [197, 184, 168, 187, 188, 202, 188, 190],\n",
    "    '국어': [90,40,80,40,15,80,55,100],\n",
    "    '영어': [85,35,75,60,20,100,65,85],\n",
    "    '수학': [100,50,70,70,10,95,45,90],\n",
    "    '과학': [95,55,80,75,35,85,40,95],\n",
    "    '사회': [85,25,75,80,10,80,35,95],\n",
    "    'SW특기': ['Python','Java','Javascript','','','C','PYTHON','C#']\n",
    "}\n",
    "data"
   ]
  },
  {
   "cell_type": "markdown",
   "id": "91991843-d1d6-4245-b188-786b676549e3",
   "metadata": {},
   "source": [
    "## Dataframe 객체 생성"
   ]
  },
  {
   "cell_type": "code",
   "execution_count": 3,
   "id": "dad20d0d-32f2-4631-a0c3-3a620f44b8b1",
   "metadata": {},
   "outputs": [],
   "source": [
    "import pandas as pd"
   ]
  },
  {
   "cell_type": "code",
   "execution_count": 4,
   "id": "506cb38e-9c0c-4705-9556-1bc315e7b294",
   "metadata": {},
   "outputs": [],
   "source": [
    "df = pd.DataFrame(data)"
   ]
  },
  {
   "cell_type": "code",
   "execution_count": 8,
   "id": "538dc64b-f976-401f-b380-dbfec5067d13",
   "metadata": {},
   "outputs": [
    {
     "data": {
      "text/html": [
       "<div>\n",
       "<style scoped>\n",
       "    .dataframe tbody tr th:only-of-type {\n",
       "        vertical-align: middle;\n",
       "    }\n",
       "\n",
       "    .dataframe tbody tr th {\n",
       "        vertical-align: top;\n",
       "    }\n",
       "\n",
       "    .dataframe thead th {\n",
       "        text-align: right;\n",
       "    }\n",
       "</style>\n",
       "<table border=\"1\" class=\"dataframe\">\n",
       "  <thead>\n",
       "    <tr style=\"text-align: right;\">\n",
       "      <th></th>\n",
       "      <th>이름</th>\n",
       "      <th>학교</th>\n",
       "      <th>키</th>\n",
       "      <th>국어</th>\n",
       "      <th>영어</th>\n",
       "      <th>수학</th>\n",
       "      <th>과학</th>\n",
       "      <th>사회</th>\n",
       "      <th>SW특기</th>\n",
       "    </tr>\n",
       "  </thead>\n",
       "  <tbody>\n",
       "    <tr>\n",
       "      <th>0</th>\n",
       "      <td>채치수</td>\n",
       "      <td>북산고</td>\n",
       "      <td>197</td>\n",
       "      <td>90</td>\n",
       "      <td>85</td>\n",
       "      <td>100</td>\n",
       "      <td>95</td>\n",
       "      <td>85</td>\n",
       "      <td>Python</td>\n",
       "    </tr>\n",
       "    <tr>\n",
       "      <th>1</th>\n",
       "      <td>정대만</td>\n",
       "      <td>북산고</td>\n",
       "      <td>184</td>\n",
       "      <td>40</td>\n",
       "      <td>35</td>\n",
       "      <td>50</td>\n",
       "      <td>55</td>\n",
       "      <td>25</td>\n",
       "      <td>Java</td>\n",
       "    </tr>\n",
       "    <tr>\n",
       "      <th>2</th>\n",
       "      <td>송태섭</td>\n",
       "      <td>북산고</td>\n",
       "      <td>168</td>\n",
       "      <td>80</td>\n",
       "      <td>75</td>\n",
       "      <td>70</td>\n",
       "      <td>80</td>\n",
       "      <td>75</td>\n",
       "      <td>Javascript</td>\n",
       "    </tr>\n",
       "    <tr>\n",
       "      <th>3</th>\n",
       "      <td>서태웅</td>\n",
       "      <td>북산고</td>\n",
       "      <td>187</td>\n",
       "      <td>40</td>\n",
       "      <td>60</td>\n",
       "      <td>70</td>\n",
       "      <td>75</td>\n",
       "      <td>80</td>\n",
       "      <td></td>\n",
       "    </tr>\n",
       "    <tr>\n",
       "      <th>4</th>\n",
       "      <td>강백호</td>\n",
       "      <td>북산고</td>\n",
       "      <td>188</td>\n",
       "      <td>15</td>\n",
       "      <td>20</td>\n",
       "      <td>10</td>\n",
       "      <td>35</td>\n",
       "      <td>10</td>\n",
       "      <td></td>\n",
       "    </tr>\n",
       "    <tr>\n",
       "      <th>5</th>\n",
       "      <td>변덕규</td>\n",
       "      <td>능남고</td>\n",
       "      <td>202</td>\n",
       "      <td>80</td>\n",
       "      <td>100</td>\n",
       "      <td>95</td>\n",
       "      <td>85</td>\n",
       "      <td>80</td>\n",
       "      <td>C</td>\n",
       "    </tr>\n",
       "    <tr>\n",
       "      <th>6</th>\n",
       "      <td>황태산</td>\n",
       "      <td>능남고</td>\n",
       "      <td>188</td>\n",
       "      <td>55</td>\n",
       "      <td>65</td>\n",
       "      <td>45</td>\n",
       "      <td>40</td>\n",
       "      <td>35</td>\n",
       "      <td>PYTHON</td>\n",
       "    </tr>\n",
       "    <tr>\n",
       "      <th>7</th>\n",
       "      <td>윤대협</td>\n",
       "      <td>능남고</td>\n",
       "      <td>190</td>\n",
       "      <td>100</td>\n",
       "      <td>85</td>\n",
       "      <td>90</td>\n",
       "      <td>95</td>\n",
       "      <td>95</td>\n",
       "      <td>C#</td>\n",
       "    </tr>\n",
       "  </tbody>\n",
       "</table>\n",
       "</div>"
      ],
      "text/plain": [
       "    이름   학교    키   국어   영어   수학  과학  사회        SW특기\n",
       "0  채치수  북산고  197   90   85  100  95  85      Python\n",
       "1  정대만  북산고  184   40   35   50  55  25        Java\n",
       "2  송태섭  북산고  168   80   75   70  80  75  Javascript\n",
       "3  서태웅  북산고  187   40   60   70  75  80            \n",
       "4  강백호  북산고  188   15   20   10  35  10            \n",
       "5  변덕규  능남고  202   80  100   95  85  80           C\n",
       "6  황태산  능남고  188   55   65   45  40  35      PYTHON\n",
       "7  윤대협  능남고  190  100   85   90  95  95          C#"
      ]
     },
     "execution_count": 8,
     "metadata": {},
     "output_type": "execute_result"
    }
   ],
   "source": [
    "df"
   ]
  },
  {
   "cell_type": "code",
   "execution_count": 9,
   "id": "3754e41c-1a86-4322-9cff-954c3fcd78ad",
   "metadata": {},
   "outputs": [
    {
     "data": {
      "text/html": [
       "<div>\n",
       "<style scoped>\n",
       "    .dataframe tbody tr th:only-of-type {\n",
       "        vertical-align: middle;\n",
       "    }\n",
       "\n",
       "    .dataframe tbody tr th {\n",
       "        vertical-align: top;\n",
       "    }\n",
       "\n",
       "    .dataframe thead th {\n",
       "        text-align: right;\n",
       "    }\n",
       "</style>\n",
       "<table border=\"1\" class=\"dataframe\">\n",
       "  <thead>\n",
       "    <tr style=\"text-align: right;\">\n",
       "      <th></th>\n",
       "      <th>키</th>\n",
       "      <th>국어</th>\n",
       "      <th>영어</th>\n",
       "      <th>수학</th>\n",
       "      <th>과학</th>\n",
       "      <th>사회</th>\n",
       "    </tr>\n",
       "  </thead>\n",
       "  <tbody>\n",
       "    <tr>\n",
       "      <th>count</th>\n",
       "      <td>8.000000</td>\n",
       "      <td>8.000000</td>\n",
       "      <td>8.000000</td>\n",
       "      <td>8.000000</td>\n",
       "      <td>8.000000</td>\n",
       "      <td>8.000000</td>\n",
       "    </tr>\n",
       "    <tr>\n",
       "      <th>mean</th>\n",
       "      <td>188.000000</td>\n",
       "      <td>62.500000</td>\n",
       "      <td>65.625000</td>\n",
       "      <td>66.250000</td>\n",
       "      <td>70.000000</td>\n",
       "      <td>60.625000</td>\n",
       "    </tr>\n",
       "    <tr>\n",
       "      <th>std</th>\n",
       "      <td>9.985704</td>\n",
       "      <td>29.519969</td>\n",
       "      <td>26.917533</td>\n",
       "      <td>30.325614</td>\n",
       "      <td>23.754699</td>\n",
       "      <td>32.120032</td>\n",
       "    </tr>\n",
       "    <tr>\n",
       "      <th>min</th>\n",
       "      <td>168.000000</td>\n",
       "      <td>15.000000</td>\n",
       "      <td>20.000000</td>\n",
       "      <td>10.000000</td>\n",
       "      <td>35.000000</td>\n",
       "      <td>10.000000</td>\n",
       "    </tr>\n",
       "    <tr>\n",
       "      <th>25%</th>\n",
       "      <td>186.250000</td>\n",
       "      <td>40.000000</td>\n",
       "      <td>53.750000</td>\n",
       "      <td>48.750000</td>\n",
       "      <td>51.250000</td>\n",
       "      <td>32.500000</td>\n",
       "    </tr>\n",
       "    <tr>\n",
       "      <th>50%</th>\n",
       "      <td>188.000000</td>\n",
       "      <td>67.500000</td>\n",
       "      <td>70.000000</td>\n",
       "      <td>70.000000</td>\n",
       "      <td>77.500000</td>\n",
       "      <td>77.500000</td>\n",
       "    </tr>\n",
       "    <tr>\n",
       "      <th>75%</th>\n",
       "      <td>191.750000</td>\n",
       "      <td>82.500000</td>\n",
       "      <td>85.000000</td>\n",
       "      <td>91.250000</td>\n",
       "      <td>87.500000</td>\n",
       "      <td>81.250000</td>\n",
       "    </tr>\n",
       "    <tr>\n",
       "      <th>max</th>\n",
       "      <td>202.000000</td>\n",
       "      <td>100.000000</td>\n",
       "      <td>100.000000</td>\n",
       "      <td>100.000000</td>\n",
       "      <td>95.000000</td>\n",
       "      <td>95.000000</td>\n",
       "    </tr>\n",
       "  </tbody>\n",
       "</table>\n",
       "</div>"
      ],
      "text/plain": [
       "                키          국어          영어          수학         과학         사회\n",
       "count    8.000000    8.000000    8.000000    8.000000   8.000000   8.000000\n",
       "mean   188.000000   62.500000   65.625000   66.250000  70.000000  60.625000\n",
       "std      9.985704   29.519969   26.917533   30.325614  23.754699  32.120032\n",
       "min    168.000000   15.000000   20.000000   10.000000  35.000000  10.000000\n",
       "25%    186.250000   40.000000   53.750000   48.750000  51.250000  32.500000\n",
       "50%    188.000000   67.500000   70.000000   70.000000  77.500000  77.500000\n",
       "75%    191.750000   82.500000   85.000000   91.250000  87.500000  81.250000\n",
       "max    202.000000  100.000000  100.000000  100.000000  95.000000  95.000000"
      ]
     },
     "execution_count": 9,
     "metadata": {},
     "output_type": "execute_result"
    }
   ],
   "source": [
    "df.describe()"
   ]
  },
  {
   "cell_type": "code",
   "execution_count": 10,
   "id": "cf077124-87b0-4980-955c-898e692bb81b",
   "metadata": {},
   "outputs": [
    {
     "name": "stdout",
     "output_type": "stream",
     "text": [
      "<class 'pandas.core.frame.DataFrame'>\n",
      "RangeIndex: 8 entries, 0 to 7\n",
      "Data columns (total 9 columns):\n",
      " #   Column  Non-Null Count  Dtype \n",
      "---  ------  --------------  ----- \n",
      " 0   이름      8 non-null      object\n",
      " 1   학교      8 non-null      object\n",
      " 2   키       8 non-null      int64 \n",
      " 3   국어      8 non-null      int64 \n",
      " 4   영어      8 non-null      int64 \n",
      " 5   수학      8 non-null      int64 \n",
      " 6   과학      8 non-null      int64 \n",
      " 7   사회      8 non-null      int64 \n",
      " 8   SW특기    8 non-null      object\n",
      "dtypes: int64(6), object(3)\n",
      "memory usage: 704.0+ bytes\n"
     ]
    }
   ],
   "source": [
    "df.info()"
   ]
  },
  {
   "cell_type": "code",
   "execution_count": 11,
   "id": "d4546bb1-f814-499b-b8d1-133547e7b9bf",
   "metadata": {},
   "outputs": [
    {
     "data": {
      "text/plain": [
       "array([['채치수', '북산고', 197, 90, 85, 100, 95, 85, 'Python'],\n",
       "       ['정대만', '북산고', 184, 40, 35, 50, 55, 25, 'Java'],\n",
       "       ['송태섭', '북산고', 168, 80, 75, 70, 80, 75, 'Javascript'],\n",
       "       ['서태웅', '북산고', 187, 40, 60, 70, 75, 80, ''],\n",
       "       ['강백호', '북산고', 188, 15, 20, 10, 35, 10, ''],\n",
       "       ['변덕규', '능남고', 202, 80, 100, 95, 85, 80, 'C'],\n",
       "       ['황태산', '능남고', 188, 55, 65, 45, 40, 35, 'PYTHON'],\n",
       "       ['윤대협', '능남고', 190, 100, 85, 90, 95, 95, 'C#']], dtype=object)"
      ]
     },
     "execution_count": 11,
     "metadata": {},
     "output_type": "execute_result"
    }
   ],
   "source": [
    "df.values"
   ]
  },
  {
   "cell_type": "code",
   "execution_count": 12,
   "id": "a61fab4d-70e9-4a6f-8b51-16534994c93b",
   "metadata": {},
   "outputs": [
    {
     "data": {
      "text/plain": [
       "RangeIndex(start=0, stop=8, step=1)"
      ]
     },
     "execution_count": 12,
     "metadata": {},
     "output_type": "execute_result"
    }
   ],
   "source": [
    "df.index"
   ]
  },
  {
   "cell_type": "code",
   "execution_count": 13,
   "id": "784bb7f9-7a22-4f12-bc0a-1edb8c4ee869",
   "metadata": {},
   "outputs": [
    {
     "data": {
      "text/plain": [
       "Index(['이름', '학교', '키', '국어', '영어', '수학', '과학', '사회', 'SW특기'], dtype='object')"
      ]
     },
     "execution_count": 13,
     "metadata": {},
     "output_type": "execute_result"
    }
   ],
   "source": [
    "df.columns"
   ]
  },
  {
   "cell_type": "code",
   "execution_count": 14,
   "id": "12987444-2f47-450e-8564-24d43f39e3a5",
   "metadata": {},
   "outputs": [
    {
     "data": {
      "text/plain": [
       "(8, 9)"
      ]
     },
     "execution_count": 14,
     "metadata": {},
     "output_type": "execute_result"
    }
   ],
   "source": [
    "df.shape"
   ]
  },
  {
   "cell_type": "markdown",
   "id": "d77cc574-5f33-4cc8-a1e9-c07645be78a2",
   "metadata": {},
   "source": [
    "## Series 확인"
   ]
  },
  {
   "cell_type": "code",
   "execution_count": 15,
   "id": "40482fa8-5582-43b8-bf1e-4a036426031a",
   "metadata": {},
   "outputs": [
    {
     "data": {
      "text/plain": [
       "count      8.000000\n",
       "mean     188.000000\n",
       "std        9.985704\n",
       "min      168.000000\n",
       "25%      186.250000\n",
       "50%      188.000000\n",
       "75%      191.750000\n",
       "max      202.000000\n",
       "Name: 키, dtype: float64"
      ]
     },
     "execution_count": 15,
     "metadata": {},
     "output_type": "execute_result"
    }
   ],
   "source": [
    "df['키'].describe()"
   ]
  },
  {
   "cell_type": "code",
   "execution_count": 16,
   "id": "1dca26e1-b22d-4bcb-882b-442f26ef701f",
   "metadata": {},
   "outputs": [
    {
     "data": {
      "text/plain": [
       "5    202\n",
       "0    197\n",
       "7    190\n",
       "Name: 키, dtype: int64"
      ]
     },
     "execution_count": 16,
     "metadata": {},
     "output_type": "execute_result"
    }
   ],
   "source": [
    "df['키'].nlargest(3) #키 큰 사람 순서대로 3명 데이터"
   ]
  },
  {
   "cell_type": "code",
   "execution_count": 17,
   "id": "66986fe0-d94c-4887-a90a-9ed4856731b1",
   "metadata": {},
   "outputs": [
    {
     "data": {
      "text/plain": [
       "8"
      ]
     },
     "execution_count": 17,
     "metadata": {},
     "output_type": "execute_result"
    }
   ],
   "source": [
    "df['SW특기'].count()"
   ]
  },
  {
   "cell_type": "code",
   "execution_count": 18,
   "id": "7c050736-d5a1-4085-ba45-75e3c140c6c1",
   "metadata": {},
   "outputs": [],
   "source": [
    "df['지원번호'] = ['1번','2번','3번','4번','5번','6번','7번','8번']"
   ]
  },
  {
   "cell_type": "code",
   "execution_count": 21,
   "id": "f2fca27b-320b-46d5-895d-098261969067",
   "metadata": {},
   "outputs": [],
   "source": [
    "df.set_index('지원번호', inplace = True)"
   ]
  },
  {
   "cell_type": "code",
   "execution_count": 25,
   "id": "e824a8ba-05d2-4a5d-bbeb-ee35d2c26c83",
   "metadata": {},
   "outputs": [],
   "source": [
    "df.to_csv('score.csv', encoding='utf-8-sig')"
   ]
  },
  {
   "cell_type": "code",
   "execution_count": null,
   "id": "51028294-81c2-4089-8f61-f6bb3e7279c8",
   "metadata": {},
   "outputs": [],
   "source": []
  }
 ],
 "metadata": {
  "kernelspec": {
   "display_name": "Python Multi",
   "language": "python",
   "name": "multi"
  },
  "language_info": {
   "codemirror_mode": {
    "name": "ipython",
    "version": 3
   },
   "file_extension": ".py",
   "mimetype": "text/x-python",
   "name": "python",
   "nbconvert_exporter": "python",
   "pygments_lexer": "ipython3",
   "version": "3.7.6"
  }
 },
 "nbformat": 4,
 "nbformat_minor": 5
}
